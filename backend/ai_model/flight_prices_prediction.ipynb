{
 "cells": [
  {
   "cell_type": "markdown",
   "metadata": {},
   "source": [
    "# Flight Price Prediction\n",
    "* The goal of this project is to generate flight prices based on information provided in the `flight.csv` dataset. Here we will wrangle the dataset, and create a model that generates flight prices. "
   ]
  },
  {
   "cell_type": "code",
   "execution_count": 22,
   "metadata": {},
   "outputs": [
    {
     "name": "stdout",
     "output_type": "stream",
     "text": [
      "Requirement already satisfied: pandas in d:\\.anaconda\\envs\\machinelearning\\lib\\site-packages (2.2.0)\n",
      "Requirement already satisfied: numpy<2,>=1.23.2 in d:\\.anaconda\\envs\\machinelearning\\lib\\site-packages (from pandas) (1.24.3)\n",
      "Requirement already satisfied: python-dateutil>=2.8.2 in d:\\.anaconda\\envs\\machinelearning\\lib\\site-packages (from pandas) (2.8.2)\n",
      "Requirement already satisfied: pytz>=2020.1 in d:\\.anaconda\\envs\\machinelearning\\lib\\site-packages (from pandas) (2024.1)\n",
      "Requirement already satisfied: tzdata>=2022.7 in d:\\.anaconda\\envs\\machinelearning\\lib\\site-packages (from pandas) (2024.1)\n",
      "Requirement already satisfied: six>=1.5 in d:\\.anaconda\\envs\\machinelearning\\lib\\site-packages (from python-dateutil>=2.8.2->pandas) (1.16.0)\n",
      "Note: you may need to restart the kernel to use updated packages.\n"
     ]
    }
   ],
   "source": [
    "%pip install pandas"
   ]
  },
  {
   "cell_type": "code",
   "execution_count": 23,
   "metadata": {},
   "outputs": [],
   "source": [
    "import numpy as np\n",
    "import pandas as pd\n",
    "import datetime\n",
    "import statistics"
   ]
  },
  {
   "cell_type": "code",
   "execution_count": 24,
   "metadata": {},
   "outputs": [
    {
     "name": "stderr",
     "output_type": "stream",
     "text": [
      "C:\\Users\\Grimm\\AppData\\Local\\Temp\\ipykernel_38564\\1413789958.py:1: DtypeWarning: Columns (7,8) have mixed types. Specify dtype option on import or set low_memory=False.\n",
      "  data = pd.read_csv('dataset/flights.csv')\n"
     ]
    },
    {
     "data": {
      "text/html": [
       "<div>\n",
       "<style scoped>\n",
       "    .dataframe tbody tr th:only-of-type {\n",
       "        vertical-align: middle;\n",
       "    }\n",
       "\n",
       "    .dataframe tbody tr th {\n",
       "        vertical-align: top;\n",
       "    }\n",
       "\n",
       "    .dataframe thead th {\n",
       "        text-align: right;\n",
       "    }\n",
       "</style>\n",
       "<table border=\"1\" class=\"dataframe\">\n",
       "  <thead>\n",
       "    <tr style=\"text-align: right;\">\n",
       "      <th></th>\n",
       "      <th>YEAR</th>\n",
       "      <th>MONTH</th>\n",
       "      <th>DAY</th>\n",
       "      <th>DAY_OF_WEEK</th>\n",
       "      <th>AIRLINE</th>\n",
       "      <th>FLIGHT_NUMBER</th>\n",
       "      <th>TAIL_NUMBER</th>\n",
       "      <th>ORIGIN_AIRPORT</th>\n",
       "      <th>DESTINATION_AIRPORT</th>\n",
       "      <th>SCHEDULED_DEPARTURE</th>\n",
       "      <th>...</th>\n",
       "      <th>ARRIVAL_TIME</th>\n",
       "      <th>ARRIVAL_DELAY</th>\n",
       "      <th>DIVERTED</th>\n",
       "      <th>CANCELLED</th>\n",
       "      <th>CANCELLATION_REASON</th>\n",
       "      <th>AIR_SYSTEM_DELAY</th>\n",
       "      <th>SECURITY_DELAY</th>\n",
       "      <th>AIRLINE_DELAY</th>\n",
       "      <th>LATE_AIRCRAFT_DELAY</th>\n",
       "      <th>WEATHER_DELAY</th>\n",
       "    </tr>\n",
       "  </thead>\n",
       "  <tbody>\n",
       "    <tr>\n",
       "      <th>0</th>\n",
       "      <td>2015</td>\n",
       "      <td>1</td>\n",
       "      <td>1</td>\n",
       "      <td>4</td>\n",
       "      <td>AS</td>\n",
       "      <td>98</td>\n",
       "      <td>N407AS</td>\n",
       "      <td>ANC</td>\n",
       "      <td>SEA</td>\n",
       "      <td>5</td>\n",
       "      <td>...</td>\n",
       "      <td>408.0</td>\n",
       "      <td>-22.0</td>\n",
       "      <td>0</td>\n",
       "      <td>0</td>\n",
       "      <td>NaN</td>\n",
       "      <td>NaN</td>\n",
       "      <td>NaN</td>\n",
       "      <td>NaN</td>\n",
       "      <td>NaN</td>\n",
       "      <td>NaN</td>\n",
       "    </tr>\n",
       "    <tr>\n",
       "      <th>1</th>\n",
       "      <td>2015</td>\n",
       "      <td>1</td>\n",
       "      <td>1</td>\n",
       "      <td>4</td>\n",
       "      <td>AA</td>\n",
       "      <td>2336</td>\n",
       "      <td>N3KUAA</td>\n",
       "      <td>LAX</td>\n",
       "      <td>PBI</td>\n",
       "      <td>10</td>\n",
       "      <td>...</td>\n",
       "      <td>741.0</td>\n",
       "      <td>-9.0</td>\n",
       "      <td>0</td>\n",
       "      <td>0</td>\n",
       "      <td>NaN</td>\n",
       "      <td>NaN</td>\n",
       "      <td>NaN</td>\n",
       "      <td>NaN</td>\n",
       "      <td>NaN</td>\n",
       "      <td>NaN</td>\n",
       "    </tr>\n",
       "    <tr>\n",
       "      <th>2</th>\n",
       "      <td>2015</td>\n",
       "      <td>1</td>\n",
       "      <td>1</td>\n",
       "      <td>4</td>\n",
       "      <td>US</td>\n",
       "      <td>840</td>\n",
       "      <td>N171US</td>\n",
       "      <td>SFO</td>\n",
       "      <td>CLT</td>\n",
       "      <td>20</td>\n",
       "      <td>...</td>\n",
       "      <td>811.0</td>\n",
       "      <td>5.0</td>\n",
       "      <td>0</td>\n",
       "      <td>0</td>\n",
       "      <td>NaN</td>\n",
       "      <td>NaN</td>\n",
       "      <td>NaN</td>\n",
       "      <td>NaN</td>\n",
       "      <td>NaN</td>\n",
       "      <td>NaN</td>\n",
       "    </tr>\n",
       "    <tr>\n",
       "      <th>3</th>\n",
       "      <td>2015</td>\n",
       "      <td>1</td>\n",
       "      <td>1</td>\n",
       "      <td>4</td>\n",
       "      <td>AA</td>\n",
       "      <td>258</td>\n",
       "      <td>N3HYAA</td>\n",
       "      <td>LAX</td>\n",
       "      <td>MIA</td>\n",
       "      <td>20</td>\n",
       "      <td>...</td>\n",
       "      <td>756.0</td>\n",
       "      <td>-9.0</td>\n",
       "      <td>0</td>\n",
       "      <td>0</td>\n",
       "      <td>NaN</td>\n",
       "      <td>NaN</td>\n",
       "      <td>NaN</td>\n",
       "      <td>NaN</td>\n",
       "      <td>NaN</td>\n",
       "      <td>NaN</td>\n",
       "    </tr>\n",
       "    <tr>\n",
       "      <th>4</th>\n",
       "      <td>2015</td>\n",
       "      <td>1</td>\n",
       "      <td>1</td>\n",
       "      <td>4</td>\n",
       "      <td>AS</td>\n",
       "      <td>135</td>\n",
       "      <td>N527AS</td>\n",
       "      <td>SEA</td>\n",
       "      <td>ANC</td>\n",
       "      <td>25</td>\n",
       "      <td>...</td>\n",
       "      <td>259.0</td>\n",
       "      <td>-21.0</td>\n",
       "      <td>0</td>\n",
       "      <td>0</td>\n",
       "      <td>NaN</td>\n",
       "      <td>NaN</td>\n",
       "      <td>NaN</td>\n",
       "      <td>NaN</td>\n",
       "      <td>NaN</td>\n",
       "      <td>NaN</td>\n",
       "    </tr>\n",
       "  </tbody>\n",
       "</table>\n",
       "<p>5 rows × 31 columns</p>\n",
       "</div>"
      ],
      "text/plain": [
       "   YEAR  MONTH  DAY  DAY_OF_WEEK AIRLINE  FLIGHT_NUMBER TAIL_NUMBER  \\\n",
       "0  2015      1    1            4      AS             98      N407AS   \n",
       "1  2015      1    1            4      AA           2336      N3KUAA   \n",
       "2  2015      1    1            4      US            840      N171US   \n",
       "3  2015      1    1            4      AA            258      N3HYAA   \n",
       "4  2015      1    1            4      AS            135      N527AS   \n",
       "\n",
       "  ORIGIN_AIRPORT DESTINATION_AIRPORT  SCHEDULED_DEPARTURE  ...  ARRIVAL_TIME  \\\n",
       "0            ANC                 SEA                    5  ...         408.0   \n",
       "1            LAX                 PBI                   10  ...         741.0   \n",
       "2            SFO                 CLT                   20  ...         811.0   \n",
       "3            LAX                 MIA                   20  ...         756.0   \n",
       "4            SEA                 ANC                   25  ...         259.0   \n",
       "\n",
       "   ARRIVAL_DELAY  DIVERTED  CANCELLED  CANCELLATION_REASON  AIR_SYSTEM_DELAY  \\\n",
       "0          -22.0         0          0                  NaN               NaN   \n",
       "1           -9.0         0          0                  NaN               NaN   \n",
       "2            5.0         0          0                  NaN               NaN   \n",
       "3           -9.0         0          0                  NaN               NaN   \n",
       "4          -21.0         0          0                  NaN               NaN   \n",
       "\n",
       "   SECURITY_DELAY  AIRLINE_DELAY  LATE_AIRCRAFT_DELAY  WEATHER_DELAY  \n",
       "0             NaN            NaN                  NaN            NaN  \n",
       "1             NaN            NaN                  NaN            NaN  \n",
       "2             NaN            NaN                  NaN            NaN  \n",
       "3             NaN            NaN                  NaN            NaN  \n",
       "4             NaN            NaN                  NaN            NaN  \n",
       "\n",
       "[5 rows x 31 columns]"
      ]
     },
     "execution_count": 24,
     "metadata": {},
     "output_type": "execute_result"
    }
   ],
   "source": [
    "data = pd.read_csv('dataset/flights.csv')\n",
    "data.head()"
   ]
  },
  {
   "cell_type": "code",
   "execution_count": 25,
   "metadata": {},
   "outputs": [
    {
     "data": {
      "text/plain": [
       "array([2015], dtype=int64)"
      ]
     },
     "execution_count": 25,
     "metadata": {},
     "output_type": "execute_result"
    }
   ],
   "source": [
    "data['YEAR'].unique()"
   ]
  },
  {
   "cell_type": "markdown",
   "metadata": {},
   "source": [
    "## Data Assessment\n",
    "* Here we will check for null, duplicate and other invalid values\n",
    "* We will also get a global feel of the dataset by getting the type of the different columns."
   ]
  },
  {
   "cell_type": "code",
   "execution_count": 26,
   "metadata": {},
   "outputs": [
    {
     "name": "stdout",
     "output_type": "stream",
     "text": [
      "<class 'pandas.core.frame.DataFrame'>\n",
      "RangeIndex: 5819079 entries, 0 to 5819078\n",
      "Data columns (total 31 columns):\n",
      " #   Column               Dtype  \n",
      "---  ------               -----  \n",
      " 0   YEAR                 int64  \n",
      " 1   MONTH                int64  \n",
      " 2   DAY                  int64  \n",
      " 3   DAY_OF_WEEK          int64  \n",
      " 4   AIRLINE              object \n",
      " 5   FLIGHT_NUMBER        int64  \n",
      " 6   TAIL_NUMBER          object \n",
      " 7   ORIGIN_AIRPORT       object \n",
      " 8   DESTINATION_AIRPORT  object \n",
      " 9   SCHEDULED_DEPARTURE  int64  \n",
      " 10  DEPARTURE_TIME       float64\n",
      " 11  DEPARTURE_DELAY      float64\n",
      " 12  TAXI_OUT             float64\n",
      " 13  WHEELS_OFF           float64\n",
      " 14  SCHEDULED_TIME       float64\n",
      " 15  ELAPSED_TIME         float64\n",
      " 16  AIR_TIME             float64\n",
      " 17  DISTANCE             int64  \n",
      " 18  WHEELS_ON            float64\n",
      " 19  TAXI_IN              float64\n",
      " 20  SCHEDULED_ARRIVAL    int64  \n",
      " 21  ARRIVAL_TIME         float64\n",
      " 22  ARRIVAL_DELAY        float64\n",
      " 23  DIVERTED             int64  \n",
      " 24  CANCELLED            int64  \n",
      " 25  CANCELLATION_REASON  object \n",
      " 26  AIR_SYSTEM_DELAY     float64\n",
      " 27  SECURITY_DELAY       float64\n",
      " 28  AIRLINE_DELAY        float64\n",
      " 29  LATE_AIRCRAFT_DELAY  float64\n",
      " 30  WEATHER_DELAY        float64\n",
      "dtypes: float64(16), int64(10), object(5)\n",
      "memory usage: 1.3+ GB\n"
     ]
    }
   ],
   "source": [
    "data.info()"
   ]
  },
  {
   "cell_type": "code",
   "execution_count": 27,
   "metadata": {},
   "outputs": [],
   "source": [
    "def check_data_completeness(dataframe):\n",
    "    print(\"Number of NULL rows per column --> \\n\",dataframe.isna().sum())\n",
    "    print(\"##########################################\")\n",
    "    print(\"Number of duplicate rows: -->\", dataframe.duplicated().sum())"
   ]
  },
  {
   "cell_type": "code",
   "execution_count": 28,
   "metadata": {},
   "outputs": [
    {
     "name": "stdout",
     "output_type": "stream",
     "text": [
      "Number of NULL rows per column --> \n",
      " YEAR                         0\n",
      "MONTH                        0\n",
      "DAY                          0\n",
      "DAY_OF_WEEK                  0\n",
      "AIRLINE                      0\n",
      "FLIGHT_NUMBER                0\n",
      "TAIL_NUMBER              14721\n",
      "ORIGIN_AIRPORT               0\n",
      "DESTINATION_AIRPORT          0\n",
      "SCHEDULED_DEPARTURE          0\n",
      "DEPARTURE_TIME           86153\n",
      "DEPARTURE_DELAY          86153\n",
      "TAXI_OUT                 89047\n",
      "WHEELS_OFF               89047\n",
      "SCHEDULED_TIME               6\n",
      "ELAPSED_TIME            105071\n",
      "AIR_TIME                105071\n",
      "DISTANCE                     0\n",
      "WHEELS_ON                92513\n",
      "TAXI_IN                  92513\n",
      "SCHEDULED_ARRIVAL            0\n",
      "ARRIVAL_TIME             92513\n",
      "ARRIVAL_DELAY           105071\n",
      "DIVERTED                     0\n",
      "CANCELLED                    0\n",
      "CANCELLATION_REASON    5729195\n",
      "AIR_SYSTEM_DELAY       4755640\n",
      "SECURITY_DELAY         4755640\n",
      "AIRLINE_DELAY          4755640\n",
      "LATE_AIRCRAFT_DELAY    4755640\n",
      "WEATHER_DELAY          4755640\n",
      "dtype: int64\n",
      "##########################################\n",
      "Number of duplicate rows: --> 0\n"
     ]
    }
   ],
   "source": [
    "check_data_completeness(data)"
   ]
  },
  {
   "cell_type": "markdown",
   "metadata": {},
   "source": [
    "<h5><font color='orange'>Observations</font></h5>\n",
    "\n",
    "* Our assessment shows that the data contains only flights for the year 2015. So we will not have to truncate it.\n",
    "* After assessing the dataset, we have decided to remove multiple uncessary columns that are not needed for the generation of the flight prices. Below is a list of columns we will keep:\n",
    "1. Airline: Unique airline identification number\n",
    "2. Date: Date of flight\n",
    "3. Origin_Airport, Destination_airport\n",
    "4. Distance\n",
    "5. Scheduled departure"
   ]
  },
  {
   "cell_type": "markdown",
   "metadata": {},
   "source": [
    "## Data Cleaning\n",
    "* To clean this data set, we will start by making a copy of the original data frame and all our cleaning operations will be performed on the copy of the original data."
   ]
  },
  {
   "cell_type": "code",
   "execution_count": 29,
   "metadata": {},
   "outputs": [
    {
     "data": {
      "text/plain": [
       "0         2015-01-01\n",
       "1         2015-01-01\n",
       "2         2015-01-01\n",
       "3         2015-01-01\n",
       "4         2015-01-01\n",
       "             ...    \n",
       "5819074   2015-12-31\n",
       "5819075   2015-12-31\n",
       "5819076   2015-12-31\n",
       "5819077   2015-12-31\n",
       "5819078   2015-12-31\n",
       "Name: DATE, Length: 5819079, dtype: datetime64[ns]"
      ]
     },
     "execution_count": 29,
     "metadata": {},
     "output_type": "execute_result"
    }
   ],
   "source": [
    "# The data represents days months and years each on a specific column. We will combine this date infromation into a single column.\n",
    "df = data.copy()\n",
    "df['DATE'] = pd.to_datetime(df[['YEAR', 'MONTH', 'DAY']])\n",
    "df.DATE"
   ]
  },
  {
   "cell_type": "markdown",
   "metadata": {},
   "source": [
    "### Formatting the shceduled departure time\n",
    "\n",
    "* We have noted that the times are integers and tenths represents minutes, hundreths represends hours. We will convert them to datetime accordingly."
   ]
  },
  {
   "cell_type": "code",
   "execution_count": 30,
   "metadata": {},
   "outputs": [],
   "source": [
    "# Convert 'HHMM' string to datetime\n",
    "def convert_to_hours(time_value):\n",
    "    time_str = f\"{int(time_value):04d}\"\n",
    "    hours = int(time_str[:2])\n",
    "    minutes = int(time_str[2:])\n",
    "    return datetime.time(hours, minutes)\n",
    "\n",
    "\n",
    "# Cobine date and time column to a new datetime object\n",
    "def mix_date_time(date, time):\n",
    "    return datetime.datetime.combine(date, time)\n",
    "\n",
    "def flight_time_format(df, col):\n",
    "    # Identify null time values\n",
    "    null_mask = df[col].isnull()\n",
    "\n",
    "    # if time is 2400 increment the date and set the time to midnight\n",
    "    time_2400_mask = df[col] == 2400\n",
    "    df.loc[time_2400_mask, 'DATE'] += pd.Timedelta(days=1)\n",
    "    df.loc[time_2400_mask, col] = datetime.time(0, 0)\n",
    "\n",
    "    # Format the other valid time values\n",
    "    not_null_not_2400_mask = ~null_mask & ~time_2400_mask\n",
    "    df.loc[not_null_not_2400_mask, col] = df.loc[not_null_not_2400_mask, col].apply(convert_to_hours)\n",
    "\n",
    "    # combine date and time\n",
    "    combined = df.apply(lambda row: mix_date_time(row['DATE'], row[col]) if not pd.isnull(row[col]) else np.nan, axis=1)\n",
    "    return combined\n"
   ]
  },
  {
   "cell_type": "code",
   "execution_count": 31,
   "metadata": {},
   "outputs": [
    {
     "name": "stderr",
     "output_type": "stream",
     "text": [
      "C:\\Users\\Grimm\\AppData\\Local\\Temp\\ipykernel_38564\\3644922812.py:20: FutureWarning: Setting an item of incompatible dtype is deprecated and will raise an error in a future version of pandas. Value '00:00:00' has dtype incompatible with int64, please explicitly cast to a compatible dtype first.\n",
      "  df.loc[time_2400_mask, col] = datetime.time(0, 0)\n"
     ]
    }
   ],
   "source": [
    "df['SCHEDULED_DEPARTURE'] = flight_time_format(df, 'SCHEDULED_DEPARTURE')"
   ]
  },
  {
   "cell_type": "markdown",
   "metadata": {},
   "source": [
    "### Removing all the unecessary columns"
   ]
  },
  {
   "cell_type": "code",
   "execution_count": 32,
   "metadata": {},
   "outputs": [
    {
     "name": "stdout",
     "output_type": "stream",
     "text": [
      "<class 'pandas.core.frame.DataFrame'>\n",
      "RangeIndex: 5819079 entries, 0 to 5819078\n",
      "Data columns (total 5 columns):\n",
      " #   Column               Dtype         \n",
      "---  ------               -----         \n",
      " 0   AIRLINE              object        \n",
      " 1   SCHEDULED_DEPARTURE  datetime64[ns]\n",
      " 2   ORIGIN_AIRPORT       object        \n",
      " 3   DESTINATION_AIRPORT  object        \n",
      " 4   DISTANCE             int64         \n",
      "dtypes: datetime64[ns](1), int64(1), object(3)\n",
      "memory usage: 222.0+ MB\n"
     ]
    }
   ],
   "source": [
    "df = df[[\"AIRLINE\",\"SCHEDULED_DEPARTURE\", \"ORIGIN_AIRPORT\",\"DESTINATION_AIRPORT\",\"DISTANCE\"]].copy()\n",
    "df.info()"
   ]
  },
  {
   "cell_type": "markdown",
   "metadata": {},
   "source": [
    "### The distance is in miles, for comprehension sake, we will change that to KM. 1 mile = 1.60934 km"
   ]
  },
  {
   "cell_type": "code",
   "execution_count": 33,
   "metadata": {},
   "outputs": [
    {
     "data": {
      "text/plain": [
       "0          2330.32432\n",
       "1          3749.76220\n",
       "2          3695.04464\n",
       "3          3769.07428\n",
       "4          2330.32432\n",
       "              ...    \n",
       "5819074    4201.98674\n",
       "5819075    2602.30278\n",
       "5819076    2571.72532\n",
       "5819077    1913.50526\n",
       "5819078    2536.31984\n",
       "Name: DISTANCE_KM, Length: 5819079, dtype: float64"
      ]
     },
     "execution_count": 33,
     "metadata": {},
     "output_type": "execute_result"
    }
   ],
   "source": [
    "df['DISTANCE'] *= 1.60934\n",
    "df = df.rename(columns={\"DISTANCE\": \"DISTANCE_KM\"})\n",
    "df['DISTANCE_KM'].astype(float)\n"
   ]
  },
  {
   "cell_type": "code",
   "execution_count": 34,
   "metadata": {},
   "outputs": [
    {
     "name": "stdout",
     "output_type": "stream",
     "text": [
      "Number of NULL rows per column --> \n",
      " AIRLINE                0\n",
      "SCHEDULED_DEPARTURE    0\n",
      "ORIGIN_AIRPORT         0\n",
      "DESTINATION_AIRPORT    0\n",
      "DISTANCE_KM            0\n",
      "dtype: int64\n",
      "##########################################\n",
      "Number of duplicate rows: --> 601\n"
     ]
    }
   ],
   "source": [
    "# Check the values of the new datase\n",
    "check_data_completeness(df)"
   ]
  },
  {
   "cell_type": "code",
   "execution_count": 35,
   "metadata": {},
   "outputs": [
    {
     "data": {
      "text/plain": [
       "(5818478, 5)"
      ]
     },
     "execution_count": 35,
     "metadata": {},
     "output_type": "execute_result"
    }
   ],
   "source": [
    "# Drop duplicates\n",
    "df.drop_duplicates().shape"
   ]
  },
  {
   "cell_type": "code",
   "execution_count": 36,
   "metadata": {},
   "outputs": [
    {
     "data": {
      "text/html": [
       "<div>\n",
       "<style scoped>\n",
       "    .dataframe tbody tr th:only-of-type {\n",
       "        vertical-align: middle;\n",
       "    }\n",
       "\n",
       "    .dataframe tbody tr th {\n",
       "        vertical-align: top;\n",
       "    }\n",
       "\n",
       "    .dataframe thead th {\n",
       "        text-align: right;\n",
       "    }\n",
       "</style>\n",
       "<table border=\"1\" class=\"dataframe\">\n",
       "  <thead>\n",
       "    <tr style=\"text-align: right;\">\n",
       "      <th></th>\n",
       "      <th>AIRLINE</th>\n",
       "      <th>SCHEDULED_DEPARTURE</th>\n",
       "      <th>ORIGIN_AIRPORT</th>\n",
       "      <th>DESTINATION_AIRPORT</th>\n",
       "      <th>DISTANCE_KM</th>\n",
       "    </tr>\n",
       "  </thead>\n",
       "  <tbody>\n",
       "    <tr>\n",
       "      <th>0</th>\n",
       "      <td>AS</td>\n",
       "      <td>2015-01-01 00:05:00</td>\n",
       "      <td>ANC</td>\n",
       "      <td>SEA</td>\n",
       "      <td>2330.32432</td>\n",
       "    </tr>\n",
       "    <tr>\n",
       "      <th>1</th>\n",
       "      <td>AA</td>\n",
       "      <td>2015-01-01 00:10:00</td>\n",
       "      <td>LAX</td>\n",
       "      <td>PBI</td>\n",
       "      <td>3749.76220</td>\n",
       "    </tr>\n",
       "    <tr>\n",
       "      <th>2</th>\n",
       "      <td>US</td>\n",
       "      <td>2015-01-01 00:20:00</td>\n",
       "      <td>SFO</td>\n",
       "      <td>CLT</td>\n",
       "      <td>3695.04464</td>\n",
       "    </tr>\n",
       "    <tr>\n",
       "      <th>3</th>\n",
       "      <td>AA</td>\n",
       "      <td>2015-01-01 00:20:00</td>\n",
       "      <td>LAX</td>\n",
       "      <td>MIA</td>\n",
       "      <td>3769.07428</td>\n",
       "    </tr>\n",
       "    <tr>\n",
       "      <th>4</th>\n",
       "      <td>AS</td>\n",
       "      <td>2015-01-01 00:25:00</td>\n",
       "      <td>SEA</td>\n",
       "      <td>ANC</td>\n",
       "      <td>2330.32432</td>\n",
       "    </tr>\n",
       "  </tbody>\n",
       "</table>\n",
       "</div>"
      ],
      "text/plain": [
       "  AIRLINE SCHEDULED_DEPARTURE ORIGIN_AIRPORT DESTINATION_AIRPORT  DISTANCE_KM\n",
       "0      AS 2015-01-01 00:05:00            ANC                 SEA   2330.32432\n",
       "1      AA 2015-01-01 00:10:00            LAX                 PBI   3749.76220\n",
       "2      US 2015-01-01 00:20:00            SFO                 CLT   3695.04464\n",
       "3      AA 2015-01-01 00:20:00            LAX                 MIA   3769.07428\n",
       "4      AS 2015-01-01 00:25:00            SEA                 ANC   2330.32432"
      ]
     },
     "execution_count": 36,
     "metadata": {},
     "output_type": "execute_result"
    }
   ],
   "source": [
    "df.head()"
   ]
  },
  {
   "cell_type": "markdown",
   "metadata": {},
   "source": [
    "### Cost of each flight:\n",
    "* We get the average price of the orign airports multiplied by the price per km due to the length of the flight. (the price per km is the mean of the lowest price and highest price 0.15 and 0.40 for domestic flights)\n",
    "* The flight price varies according to the time of the year.\n",
    "----------------------------------------------------------------\n",
    "To rank the months for booking domestic flights within the United States in ascending order from the best (most affordable) to the worst (most expensive), here is my recommendation:\n",
    "\n",
    "`January, February, September, October, November, March, August, April, May, June,July, December`\n",
    "\n",
    "The months with the lowest fares for domestic flights in the U.S. are typically January, February, and September, which fall during the off-peak travel season. These months offer the best deals as demand for air travel is lower.\n",
    "October and November can also be relatively affordable months for booking domestic flights, as they fall just after the peak summer travel season.\n",
    "March, August, and April are considered shoulder months, with fares being moderate compared to the peak and off-peak seasons.\n",
    "The most expensive months for domestic flights are typically May, June, July, and December, which coincide with peak travel periods for summer vacations, holidays, and school breaks. During these months, demand for air travel is highest, and airlines can charge premium prices."
   ]
  },
  {
   "cell_type": "code",
   "execution_count": 37,
   "metadata": {},
   "outputs": [],
   "source": [
    "def flightcost_month(date_value):\n",
    "    if date_value.month == 1 or 2 or 9:\n",
    "        return 0.65\n",
    "    elif date_value.month == 10 or 11:\n",
    "        return 0.85\n",
    "    elif date_value.month == 5 or 6 or 7 or 12:\n",
    "        return 1.75\n",
    "    else: return 1.25 "
   ]
  },
  {
   "cell_type": "code",
   "execution_count": 38,
   "metadata": {},
   "outputs": [],
   "source": [
    "### Calculate the cost of each flight per km\n",
    "df['price_per_km'] = statistics.mean([0.15, 0.4]) * df['DISTANCE_KM']\n",
    "\n",
    "# Adjust the prices with monthly fluctuations\n",
    "df['price_per_km'] *= df['SCHEDULED_DEPARTURE'].apply(flightcost_month)"
   ]
  },
  {
   "cell_type": "markdown",
   "metadata": {},
   "source": [
    "#### Average price of flight\n",
    "* The average price of flights is obtained from the [transtat website](https://www.transtats.bts.gov/AverageFare/). Using the data obtained here, we will add the `City Name`, `state name`, `average fare(2015)`, `inflation adjusted fair(2023)`. based on the airport codes.\n",
    "* For each origin airport, cost of the flight is the average between the inflation adjusted fare and the price per km of that particular flight."
   ]
  },
  {
   "cell_type": "code",
   "execution_count": 39,
   "metadata": {},
   "outputs": [
    {
     "data": {
      "text/html": [
       "<div>\n",
       "<style scoped>\n",
       "    .dataframe tbody tr th:only-of-type {\n",
       "        vertical-align: middle;\n",
       "    }\n",
       "\n",
       "    .dataframe tbody tr th {\n",
       "        vertical-align: top;\n",
       "    }\n",
       "\n",
       "    .dataframe thead th {\n",
       "        text-align: right;\n",
       "    }\n",
       "</style>\n",
       "<table border=\"1\" class=\"dataframe\">\n",
       "  <thead>\n",
       "    <tr style=\"text-align: right;\">\n",
       "      <th></th>\n",
       "      <th>Airport_Code</th>\n",
       "      <th>Airport_Name</th>\n",
       "      <th>City_Name</th>\n",
       "      <th>State_Name</th>\n",
       "      <th>Average_Fare</th>\n",
       "      <th>Inflation_Average_Fare(2023)</th>\n",
       "    </tr>\n",
       "  </thead>\n",
       "  <tbody>\n",
       "    <tr>\n",
       "      <th>0</th>\n",
       "      <td>LAX</td>\n",
       "      <td>Los Angeles International</td>\n",
       "      <td>Los Angeles</td>\n",
       "      <td>CA</td>\n",
       "      <td>398.62</td>\n",
       "      <td>512.46</td>\n",
       "    </tr>\n",
       "    <tr>\n",
       "      <th>1</th>\n",
       "      <td>ORD</td>\n",
       "      <td>Chicago O'Hare International</td>\n",
       "      <td>Chicago-O'Hare</td>\n",
       "      <td>IL</td>\n",
       "      <td>359.19</td>\n",
       "      <td>461.76</td>\n",
       "    </tr>\n",
       "    <tr>\n",
       "      <th>2</th>\n",
       "      <td>DEN</td>\n",
       "      <td>Denver International</td>\n",
       "      <td>Denver</td>\n",
       "      <td>CO</td>\n",
       "      <td>326.65</td>\n",
       "      <td>419.93</td>\n",
       "    </tr>\n",
       "    <tr>\n",
       "      <th>3</th>\n",
       "      <td>ATL</td>\n",
       "      <td>Hartsfield-Jackson Atlanta International</td>\n",
       "      <td>Atlanta</td>\n",
       "      <td>GA</td>\n",
       "      <td>390.24</td>\n",
       "      <td>501.68</td>\n",
       "    </tr>\n",
       "    <tr>\n",
       "      <th>4</th>\n",
       "      <td>EWR</td>\n",
       "      <td>Newark Liberty International</td>\n",
       "      <td>Newark</td>\n",
       "      <td>NJ</td>\n",
       "      <td>472.14</td>\n",
       "      <td>606.97</td>\n",
       "    </tr>\n",
       "  </tbody>\n",
       "</table>\n",
       "</div>"
      ],
      "text/plain": [
       "  Airport_Code                              Airport_Name       City_Name  \\\n",
       "0          LAX                 Los Angeles International     Los Angeles   \n",
       "1          ORD              Chicago O'Hare International  Chicago-O'Hare   \n",
       "2          DEN                      Denver International          Denver   \n",
       "3          ATL  Hartsfield-Jackson Atlanta International         Atlanta   \n",
       "4          EWR              Newark Liberty International          Newark   \n",
       "\n",
       "  State_Name  Average_Fare  Inflation_Average_Fare(2023)  \n",
       "0         CA        398.62                        512.46  \n",
       "1         IL        359.19                        461.76  \n",
       "2         CO        326.65                        419.93  \n",
       "3         GA        390.24                        501.68  \n",
       "4         NJ        472.14                        606.97  "
      ]
     },
     "execution_count": 39,
     "metadata": {},
     "output_type": "execute_result"
    }
   ],
   "source": [
    "airport_prices = pd.read_csv(\"dataset/airline_prices.csv\" )\n",
    "airport_prices.drop(\"2023 Passenger Rank\", axis=1, inplace=True)\n",
    "airport_prices.head()"
   ]
  },
  {
   "cell_type": "code",
   "execution_count": 40,
   "metadata": {},
   "outputs": [
    {
     "data": {
      "text/html": [
       "<div>\n",
       "<style scoped>\n",
       "    .dataframe tbody tr th:only-of-type {\n",
       "        vertical-align: middle;\n",
       "    }\n",
       "\n",
       "    .dataframe tbody tr th {\n",
       "        vertical-align: top;\n",
       "    }\n",
       "\n",
       "    .dataframe thead th {\n",
       "        text-align: right;\n",
       "    }\n",
       "</style>\n",
       "<table border=\"1\" class=\"dataframe\">\n",
       "  <thead>\n",
       "    <tr style=\"text-align: right;\">\n",
       "      <th></th>\n",
       "      <th>AIRLINE</th>\n",
       "      <th>SCHEDULED_DEPARTURE</th>\n",
       "      <th>ORIGIN_AIRPORT</th>\n",
       "      <th>DESTINATION_AIRPORT</th>\n",
       "      <th>PRICE</th>\n",
       "    </tr>\n",
       "  </thead>\n",
       "  <tbody>\n",
       "    <tr>\n",
       "      <th>0</th>\n",
       "      <td>AS</td>\n",
       "      <td>2015-01-01 00:05:00</td>\n",
       "      <td>ANC</td>\n",
       "      <td>SEA</td>\n",
       "      <td>512.65</td>\n",
       "    </tr>\n",
       "    <tr>\n",
       "      <th>1</th>\n",
       "      <td>AA</td>\n",
       "      <td>2015-01-01 00:10:00</td>\n",
       "      <td>LAX</td>\n",
       "      <td>PBI</td>\n",
       "      <td>591.36</td>\n",
       "    </tr>\n",
       "    <tr>\n",
       "      <th>2</th>\n",
       "      <td>US</td>\n",
       "      <td>2015-01-01 00:20:00</td>\n",
       "      <td>SFO</td>\n",
       "      <td>CLT</td>\n",
       "      <td>604.76</td>\n",
       "    </tr>\n",
       "    <tr>\n",
       "      <th>3</th>\n",
       "      <td>AA</td>\n",
       "      <td>2015-01-01 00:20:00</td>\n",
       "      <td>LAX</td>\n",
       "      <td>MIA</td>\n",
       "      <td>593.09</td>\n",
       "    </tr>\n",
       "    <tr>\n",
       "      <th>4</th>\n",
       "      <td>AS</td>\n",
       "      <td>2015-01-01 00:25:00</td>\n",
       "      <td>SEA</td>\n",
       "      <td>ANC</td>\n",
       "      <td>444.17</td>\n",
       "    </tr>\n",
       "    <tr>\n",
       "      <th>...</th>\n",
       "      <td>...</td>\n",
       "      <td>...</td>\n",
       "      <td>...</td>\n",
       "      <td>...</td>\n",
       "      <td>...</td>\n",
       "    </tr>\n",
       "    <tr>\n",
       "      <th>5332909</th>\n",
       "      <td>B6</td>\n",
       "      <td>2015-12-31 23:59:00</td>\n",
       "      <td>LAX</td>\n",
       "      <td>BOS</td>\n",
       "      <td>631.78</td>\n",
       "    </tr>\n",
       "    <tr>\n",
       "      <th>5332910</th>\n",
       "      <td>B6</td>\n",
       "      <td>2015-12-31 23:59:00</td>\n",
       "      <td>JFK</td>\n",
       "      <td>PSE</td>\n",
       "      <td>509.31</td>\n",
       "    </tr>\n",
       "    <tr>\n",
       "      <th>5332911</th>\n",
       "      <td>B6</td>\n",
       "      <td>2015-12-31 23:59:00</td>\n",
       "      <td>JFK</td>\n",
       "      <td>SJU</td>\n",
       "      <td>506.58</td>\n",
       "    </tr>\n",
       "    <tr>\n",
       "      <th>5332912</th>\n",
       "      <td>B6</td>\n",
       "      <td>2015-12-31 23:59:00</td>\n",
       "      <td>MCO</td>\n",
       "      <td>SJU</td>\n",
       "      <td>358.17</td>\n",
       "    </tr>\n",
       "    <tr>\n",
       "      <th>5332913</th>\n",
       "      <td>B6</td>\n",
       "      <td>2015-12-31 23:59:00</td>\n",
       "      <td>JFK</td>\n",
       "      <td>BQN</td>\n",
       "      <td>503.41</td>\n",
       "    </tr>\n",
       "  </tbody>\n",
       "</table>\n",
       "<p>5332914 rows × 5 columns</p>\n",
       "</div>"
      ],
      "text/plain": [
       "        AIRLINE SCHEDULED_DEPARTURE ORIGIN_AIRPORT DESTINATION_AIRPORT   PRICE\n",
       "0            AS 2015-01-01 00:05:00            ANC                 SEA  512.65\n",
       "1            AA 2015-01-01 00:10:00            LAX                 PBI  591.36\n",
       "2            US 2015-01-01 00:20:00            SFO                 CLT  604.76\n",
       "3            AA 2015-01-01 00:20:00            LAX                 MIA  593.09\n",
       "4            AS 2015-01-01 00:25:00            SEA                 ANC  444.17\n",
       "...         ...                 ...            ...                 ...     ...\n",
       "5332909      B6 2015-12-31 23:59:00            LAX                 BOS  631.78\n",
       "5332910      B6 2015-12-31 23:59:00            JFK                 PSE  509.31\n",
       "5332911      B6 2015-12-31 23:59:00            JFK                 SJU  506.58\n",
       "5332912      B6 2015-12-31 23:59:00            MCO                 SJU  358.17\n",
       "5332913      B6 2015-12-31 23:59:00            JFK                 BQN  503.41\n",
       "\n",
       "[5332914 rows x 5 columns]"
      ]
     },
     "execution_count": 40,
     "metadata": {},
     "output_type": "execute_result"
    }
   ],
   "source": [
    "# Merge the two data sets while keeping only the inflation adjusted fare\n",
    "df_flight_prices = pd.merge(df, airport_prices[['Airport_Code','Inflation_Average_Fare(2023)']], how=\"inner\", left_on=\"ORIGIN_AIRPORT\", right_on=\"Airport_Code\")\n",
    "df_flight_prices.drop('Airport_Code', axis=1, inplace=True)\n",
    "df_flight_prices['Inflation_Average_Fare(2023)'] = df_flight_prices['Inflation_Average_Fare(2023)'].fillna(0)\n",
    "\n",
    "# Flight prices is the average of the yearly airport fare and the calculated fare per distance and month\n",
    "df_flight_prices['PRICE'] = (df_flight_prices['price_per_km'] + df_flight_prices['Inflation_Average_Fare(2023)'])/2.0\n",
    "\n",
    "# clean the original airport prices dataframe to contain only the information on airports\n",
    "df_flight_prices.drop(['Inflation_Average_Fare(2023)', 'price_per_km', 'DISTANCE_KM'], axis=1, inplace=True)\n",
    "df_flight_prices['PRICE'] = round(df_flight_prices['PRICE'], 2)\n",
    "df_flight_prices['PRICE'].astype(float)\n",
    "df_flight_prices\n"
   ]
  },
  {
   "cell_type": "code",
   "execution_count": 41,
   "metadata": {},
   "outputs": [
    {
     "data": {
      "text/plain": [
       "AIRLINE                0\n",
       "SCHEDULED_DEPARTURE    0\n",
       "ORIGIN_AIRPORT         0\n",
       "DESTINATION_AIRPORT    0\n",
       "PRICE                  0\n",
       "dtype: int64"
      ]
     },
     "execution_count": 41,
     "metadata": {},
     "output_type": "execute_result"
    }
   ],
   "source": [
    "df_flight_prices.isna().sum()"
   ]
  },
  {
   "cell_type": "markdown",
   "metadata": {},
   "source": [
    "## Saving the new dataset with prices\n",
    "* After wrangling our data, we were able to set the price for each flight. This data set is `flight_prices` This is the pickle format because it allows us to keep the dataframe structure intact."
   ]
  },
  {
   "cell_type": "code",
   "execution_count": 42,
   "metadata": {},
   "outputs": [],
   "source": [
    "df_flight_prices.to_pickle('dataset/flight_prices')"
   ]
  }
 ],
 "metadata": {
  "kernelspec": {
   "display_name": "machineLearning",
   "language": "python",
   "name": "python3"
  },
  "language_info": {
   "codemirror_mode": {
    "name": "ipython",
    "version": 3
   },
   "file_extension": ".py",
   "mimetype": "text/x-python",
   "name": "python",
   "nbconvert_exporter": "python",
   "pygments_lexer": "ipython3",
   "version": "3.11.7"
  }
 },
 "nbformat": 4,
 "nbformat_minor": 2
}
