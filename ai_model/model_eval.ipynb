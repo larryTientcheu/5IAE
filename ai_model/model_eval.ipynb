{
 "cells": [
  {
   "cell_type": "code",
   "execution_count": 1,
   "metadata": {},
   "outputs": [],
   "source": [
    "import joblib\n",
    "import numpy as np\n",
    "import pandas as pd"
   ]
  },
  {
   "cell_type": "code",
   "execution_count": 2,
   "metadata": {},
   "outputs": [],
   "source": [
    "loaded_label_encoders = joblib.load('tmodels/label_encoders.pkl')\n",
    "rf_model = joblib.load('tmodels/nn_model.pkl')\n",
    "\n",
    "single_input = {\n",
    "    'AIRLINE': 'AS',\n",
    "    'SCHEDULED_DEPARTURE': '2023-12-28 06:23:00',\n",
    "    'ORIGIN_AIRPORT': 'LAX',\n",
    "    'DESTINATION_AIRPORT': 'JFK',\n",
    "}\n",
    "\n",
    "single_input_df = pd.DataFrame([single_input])\n",
    "\n",
    "categorical_features = ['AIRLINE', 'ORIGIN_AIRPORT', 'DESTINATION_AIRPORT']\n",
    "\n",
    "for feature in categorical_features:\n",
    "    single_input_df[feature] = loaded_label_encoders[feature].transform(single_input_df[feature])"
   ]
  },
  {
   "cell_type": "code",
   "execution_count": 3,
   "metadata": {},
   "outputs": [],
   "source": [
    "single_input_df['SCHEDULED_DEPARTURE_HOUR'] = pd.to_datetime(single_input_df['SCHEDULED_DEPARTURE']).dt.hour\n",
    "single_input_df['SCHEDULED_DEPARTURE_MINUTE'] = pd.to_datetime(single_input_df['SCHEDULED_DEPARTURE']).dt.minute\n",
    "single_input_df['SCHEDULED_DEPARTURE_DAY_OF_WEEK'] = pd.to_datetime(single_input_df['SCHEDULED_DEPARTURE']).dt.dayofweek\n",
    "single_input_df['SCHEDULED_DEPARTURE_MONTH'] = pd.to_datetime(single_input_df['SCHEDULED_DEPARTURE']).dt.month\n",
    "\n",
    "# Drop the original datetime columns\n",
    "single_input_df = single_input_df.drop(['SCHEDULED_DEPARTURE'], axis=1)"
   ]
  },
  {
   "cell_type": "code",
   "execution_count": 4,
   "metadata": {},
   "outputs": [
    {
     "data": {
      "text/html": [
       "<div>\n",
       "<style scoped>\n",
       "    .dataframe tbody tr th:only-of-type {\n",
       "        vertical-align: middle;\n",
       "    }\n",
       "\n",
       "    .dataframe tbody tr th {\n",
       "        vertical-align: top;\n",
       "    }\n",
       "\n",
       "    .dataframe thead th {\n",
       "        text-align: right;\n",
       "    }\n",
       "</style>\n",
       "<table border=\"1\" class=\"dataframe\">\n",
       "  <thead>\n",
       "    <tr style=\"text-align: right;\">\n",
       "      <th></th>\n",
       "      <th>AIRLINE</th>\n",
       "      <th>ORIGIN_AIRPORT</th>\n",
       "      <th>DESTINATION_AIRPORT</th>\n",
       "      <th>SCHEDULED_DEPARTURE_HOUR</th>\n",
       "      <th>SCHEDULED_DEPARTURE_MINUTE</th>\n",
       "      <th>SCHEDULED_DEPARTURE_DAY_OF_WEEK</th>\n",
       "      <th>SCHEDULED_DEPARTURE_MONTH</th>\n",
       "    </tr>\n",
       "  </thead>\n",
       "  <tbody>\n",
       "    <tr>\n",
       "      <th>0</th>\n",
       "      <td>1</td>\n",
       "      <td>176</td>\n",
       "      <td>166</td>\n",
       "      <td>6</td>\n",
       "      <td>23</td>\n",
       "      <td>3</td>\n",
       "      <td>12</td>\n",
       "    </tr>\n",
       "  </tbody>\n",
       "</table>\n",
       "</div>"
      ],
      "text/plain": [
       "   AIRLINE  ORIGIN_AIRPORT  DESTINATION_AIRPORT  SCHEDULED_DEPARTURE_HOUR  \\\n",
       "0        1             176                  166                         6   \n",
       "\n",
       "   SCHEDULED_DEPARTURE_MINUTE  SCHEDULED_DEPARTURE_DAY_OF_WEEK  \\\n",
       "0                          23                                3   \n",
       "\n",
       "   SCHEDULED_DEPARTURE_MONTH  \n",
       "0                         12  "
      ]
     },
     "execution_count": 4,
     "metadata": {},
     "output_type": "execute_result"
    }
   ],
   "source": [
    "single_input_df"
   ]
  },
  {
   "cell_type": "code",
   "execution_count": 7,
   "metadata": {},
   "outputs": [
    {
     "name": "stdout",
     "output_type": "stream",
     "text": [
      "\u001b[1m1/1\u001b[0m \u001b[32m━━━━━━━━━━━━━━━━━━━━\u001b[0m\u001b[37m\u001b[0m \u001b[1m0s\u001b[0m 24ms/step\n",
      "Single prediction: [547.8755]\n"
     ]
    }
   ],
   "source": [
    "single_prediction = rf_model.predict(single_input_df)\n",
    "\n",
    "print(f'Single prediction: {single_prediction[0][0]}')"
   ]
  },
  {
   "cell_type": "code",
   "execution_count": null,
   "metadata": {},
   "outputs": [],
   "source": []
  },
  {
   "cell_type": "code",
   "execution_count": null,
   "metadata": {},
   "outputs": [],
   "source": []
  }
 ],
 "metadata": {
  "kernelspec": {
   "display_name": "machineLearning",
   "language": "python",
   "name": "python3"
  },
  "language_info": {
   "codemirror_mode": {
    "name": "ipython",
    "version": 3
   },
   "file_extension": ".py",
   "mimetype": "text/x-python",
   "name": "python",
   "nbconvert_exporter": "python",
   "pygments_lexer": "ipython3",
   "version": "3.11.7"
  }
 },
 "nbformat": 4,
 "nbformat_minor": 2
}
