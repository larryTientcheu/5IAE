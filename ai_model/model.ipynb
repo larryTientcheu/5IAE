{
 "cells": [
  {
   "cell_type": "markdown",
   "metadata": {},
   "source": [
    "# Model \n",
    "* In this section, we will train 3 models and chose the best from those.\n",
    "    * Linear Regression\n",
    "    * Random Forest\n",
    "    * Neural Network"
   ]
  },
  {
   "cell_type": "markdown",
   "metadata": {},
   "source": [
    "## Data Preprocessing"
   ]
  },
  {
   "cell_type": "code",
   "execution_count": 1,
   "metadata": {},
   "outputs": [],
   "source": [
    "import pandas as pd\n",
    "import joblib\n",
    "from sklearn.preprocessing import OneHotEncoder, LabelEncoder\n",
    "from sklearn.model_selection import train_test_split\n",
    "from sklearn.linear_model import LinearRegression\n",
    "from sklearn.ensemble import RandomForestRegressor\n",
    "from sklearn.metrics import mean_squared_error\n",
    "import tensorflow as tf"
   ]
  },
  {
   "cell_type": "code",
   "execution_count": 2,
   "metadata": {},
   "outputs": [
    {
     "name": "stdout",
     "output_type": "stream",
     "text": [
      "<class 'pandas.core.frame.DataFrame'>\n",
      "RangeIndex: 5332914 entries, 0 to 5332913\n",
      "Data columns (total 5 columns):\n",
      " #   Column               Dtype         \n",
      "---  ------               -----         \n",
      " 0   AIRLINE              object        \n",
      " 1   SCHEDULED_DEPARTURE  datetime64[ns]\n",
      " 2   ORIGIN_AIRPORT       object        \n",
      " 3   DESTINATION_AIRPORT  object        \n",
      " 4   PRICE                float64       \n",
      "dtypes: datetime64[ns](1), float64(1), object(3)\n",
      "memory usage: 203.4+ MB\n"
     ]
    }
   ],
   "source": [
    "data = pd.read_pickle('dataset/flight_prices')\n",
    "data.info()"
   ]
  },
  {
   "cell_type": "code",
   "execution_count": 3,
   "metadata": {},
   "outputs": [],
   "source": [
    "# # This was used to check for incosistent datatypes in columns\n",
    "# non_string_values = data['AIRLINE'].apply(lambda x: not isinstance(x, str))\n",
    "# print(\"Values that are not of type string:\")\n",
    "# print(data.loc[non_string_values, 'AIRLINE'])"
   ]
  },
  {
   "cell_type": "markdown",
   "metadata": {},
   "source": [
    "### Encoding Categorical features"
   ]
  },
  {
   "cell_type": "code",
   "execution_count": 4,
   "metadata": {},
   "outputs": [],
   "source": [
    "# # One hot encode categorical variables\n",
    "# categorical_features = ['AIRLINE', 'ORIGIN_AIRPORT', 'DESTINATION_AIRPORT']\n",
    "# one_hot_encoder = OneHotEncoder(sparse=False)\n",
    "# encoded_features = one_hot_encoder.fit_transform(data[categorical_features])\n",
    "\n",
    "# # Convert the result to a DataFrame and concatenate with the original DataFrame\n",
    "# encoded_features_df = pd.DataFrame(encoded_features, columns=one_hot_encoder.get_feature_names_out(categorical_features))\n",
    "# data = pd.concat([data, encoded_features_df], axis=1)\n",
    "# data.drop(categorical_features, axis=1, inplace=True)"
   ]
  },
  {
   "cell_type": "code",
   "execution_count": 5,
   "metadata": {},
   "outputs": [
    {
     "data": {
      "text/plain": [
       "['tmodels/label_encoders.pkl']"
      ]
     },
     "execution_count": 5,
     "metadata": {},
     "output_type": "execute_result"
    }
   ],
   "source": [
    "# Label Encoding\n",
    "categorical_features = ['AIRLINE', 'ORIGIN_AIRPORT', 'DESTINATION_AIRPORT']\n",
    "\n",
    "label_encoders = {}\n",
    "for feature in categorical_features:\n",
    "    le = LabelEncoder()\n",
    "    data[feature] = le.fit_transform(data[feature])\n",
    "    label_encoders[feature] = le\n",
    "\n",
    "joblib.dump(label_encoders, 'tmodels/label_encoders.pkl')"
   ]
  },
  {
   "cell_type": "code",
   "execution_count": 6,
   "metadata": {},
   "outputs": [],
   "source": [
    "# Extract hour and minute from datetime features\n",
    "data['SCHEDULED_DEPARTURE_HOUR'] = pd.to_datetime(data['SCHEDULED_DEPARTURE']).dt.hour\n",
    "data['SCHEDULED_DEPARTURE_MINUTE'] = pd.to_datetime(data['SCHEDULED_DEPARTURE']).dt.minute\n",
    "data['SCHEDULED_DEPARTURE_DAY_OF_WEEK'] = pd.to_datetime(data['SCHEDULED_DEPARTURE']).dt.dayofweek\n",
    "data['SCHEDULED_DEPARTURE_MONTH'] = pd.to_datetime(data['SCHEDULED_DEPARTURE']).dt.month\n",
    "\n",
    "# Drop the original datetime columns\n",
    "data = data.drop(['SCHEDULED_DEPARTURE'], axis=1)"
   ]
  },
  {
   "cell_type": "code",
   "execution_count": 7,
   "metadata": {},
   "outputs": [],
   "source": [
    "# Feature selection\n",
    "features = data.drop('PRICE', axis=1)\n",
    "target = data['PRICE']"
   ]
  },
  {
   "cell_type": "markdown",
   "metadata": {},
   "source": [
    "### Train Test Split\n"
   ]
  },
  {
   "cell_type": "code",
   "execution_count": 8,
   "metadata": {},
   "outputs": [],
   "source": [
    "X_train, X_test, y_train, y_test = train_test_split(features, target, test_size=0.2, random_state=42)"
   ]
  },
  {
   "cell_type": "markdown",
   "metadata": {},
   "source": [
    "# Training"
   ]
  },
  {
   "cell_type": "code",
   "execution_count": 9,
   "metadata": {},
   "outputs": [
    {
     "name": "stdout",
     "output_type": "stream",
     "text": [
      "Random Forest MSE: 1.3150246833811283\n"
     ]
    }
   ],
   "source": [
    "### Random Forest\n",
    "rf_model = RandomForestRegressor(n_estimators=100, random_state=42)\n",
    "rf_model.fit(X_train, y_train)\n",
    "rf_pred = rf_model.predict(X_test)\n",
    "rf_mse = mean_squared_error(y_test, rf_pred)\n",
    "print(f'Random Forest MSE: {rf_mse}')"
   ]
  },
  {
   "cell_type": "code",
   "execution_count": 10,
   "metadata": {},
   "outputs": [
    {
     "data": {
      "text/plain": [
       "['tmodels/random_forest.pkl']"
      ]
     },
     "execution_count": 10,
     "metadata": {},
     "output_type": "execute_result"
    }
   ],
   "source": [
    "joblib.dump(rf_model,'tmodels/random_forest.pkl')"
   ]
  },
  {
   "cell_type": "code",
   "execution_count": 11,
   "metadata": {},
   "outputs": [],
   "source": [
    "### Linear Regression\n",
    "# linear_model = LinearRegression()\n",
    "# linear_model.fit(X_train, y_train)\n",
    "# linear_pred = linear_model.predict(X_test)\n",
    "# linear_mse = mean_squared_error(y_test, linear_pred)\n",
    "# print(f'Linear Regression MSE: {linear_mse}')"
   ]
  },
  {
   "cell_type": "code",
   "execution_count": 12,
   "metadata": {},
   "outputs": [
    {
     "name": "stderr",
     "output_type": "stream",
     "text": [
      "d:\\.anaconda\\envs\\machineLearning\\Lib\\site-packages\\keras\\src\\layers\\core\\dense.py:87: UserWarning: Do not pass an `input_shape`/`input_dim` argument to a layer. When using Sequential models, prefer using an `Input(shape)` object as the first layer in the model instead.\n",
      "  super().__init__(activity_regularizer=activity_regularizer, **kwargs)\n"
     ]
    },
    {
     "name": "stdout",
     "output_type": "stream",
     "text": [
      "Epoch 1/25\n",
      "\u001b[1m66662/66662\u001b[0m \u001b[32m━━━━━━━━━━━━━━━━━━━━\u001b[0m\u001b[37m\u001b[0m \u001b[1m211s\u001b[0m 3ms/step - loss: 8386.1484 - mae: 67.8917\n",
      "Epoch 2/25\n",
      "\u001b[1m66662/66662\u001b[0m \u001b[32m━━━━━━━━━━━━━━━━━━━━\u001b[0m\u001b[37m\u001b[0m \u001b[1m202s\u001b[0m 3ms/step - loss: 5913.5459 - mae: 56.8260\n",
      "Epoch 3/25\n",
      "\u001b[1m66662/66662\u001b[0m \u001b[32m━━━━━━━━━━━━━━━━━━━━\u001b[0m\u001b[37m\u001b[0m \u001b[1m205s\u001b[0m 3ms/step - loss: 4901.5000 - mae: 51.4595\n",
      "Epoch 4/25\n",
      "\u001b[1m66662/66662\u001b[0m \u001b[32m━━━━━━━━━━━━━━━━━━━━\u001b[0m\u001b[37m\u001b[0m \u001b[1m204s\u001b[0m 3ms/step - loss: 4216.8657 - mae: 47.3369\n",
      "Epoch 5/25\n",
      "\u001b[1m66662/66662\u001b[0m \u001b[32m━━━━━━━━━━━━━━━━━━━━\u001b[0m\u001b[37m\u001b[0m \u001b[1m204s\u001b[0m 3ms/step - loss: 3786.7983 - mae: 44.5753\n",
      "Epoch 6/25\n",
      "\u001b[1m66662/66662\u001b[0m \u001b[32m━━━━━━━━━━━━━━━━━━━━\u001b[0m\u001b[37m\u001b[0m \u001b[1m206s\u001b[0m 3ms/step - loss: 3478.0332 - mae: 42.4800\n",
      "Epoch 7/25\n",
      "\u001b[1m66662/66662\u001b[0m \u001b[32m━━━━━━━━━━━━━━━━━━━━\u001b[0m\u001b[37m\u001b[0m \u001b[1m13601s\u001b[0m 204ms/step - loss: 3260.8171 - mae: 40.9485\n",
      "Epoch 8/25\n",
      "\u001b[1m66662/66662\u001b[0m \u001b[32m━━━━━━━━━━━━━━━━━━━━\u001b[0m\u001b[37m\u001b[0m \u001b[1m200s\u001b[0m 3ms/step - loss: 3106.9907 - mae: 39.8666\n",
      "Epoch 9/25\n",
      "\u001b[1m66662/66662\u001b[0m \u001b[32m━━━━━━━━━━━━━━━━━━━━\u001b[0m\u001b[37m\u001b[0m \u001b[1m208s\u001b[0m 3ms/step - loss: 2961.1340 - mae: 38.7773\n",
      "Epoch 10/25\n",
      "\u001b[1m66662/66662\u001b[0m \u001b[32m━━━━━━━━━━━━━━━━━━━━\u001b[0m\u001b[37m\u001b[0m \u001b[1m200s\u001b[0m 3ms/step - loss: 2833.6335 - mae: 37.8292\n",
      "Epoch 11/25\n",
      "\u001b[1m66662/66662\u001b[0m \u001b[32m━━━━━━━━━━━━━━━━━━━━\u001b[0m\u001b[37m\u001b[0m \u001b[1m199s\u001b[0m 3ms/step - loss: 2746.1238 - mae: 37.1375\n",
      "Epoch 12/25\n",
      "\u001b[1m66662/66662\u001b[0m \u001b[32m━━━━━━━━━━━━━━━━━━━━\u001b[0m\u001b[37m\u001b[0m \u001b[1m200s\u001b[0m 3ms/step - loss: 2679.8906 - mae: 36.5872\n",
      "Epoch 13/25\n",
      "\u001b[1m66662/66662\u001b[0m \u001b[32m━━━━━━━━━━━━━━━━━━━━\u001b[0m\u001b[37m\u001b[0m \u001b[1m200s\u001b[0m 3ms/step - loss: 2594.2405 - mae: 35.9613\n",
      "Epoch 14/25\n",
      "\u001b[1m66662/66662\u001b[0m \u001b[32m━━━━━━━━━━━━━━━━━━━━\u001b[0m\u001b[37m\u001b[0m \u001b[1m202s\u001b[0m 3ms/step - loss: 2551.3301 - mae: 35.5429\n",
      "Epoch 15/25\n",
      "\u001b[1m66662/66662\u001b[0m \u001b[32m━━━━━━━━━━━━━━━━━━━━\u001b[0m\u001b[37m\u001b[0m \u001b[1m200s\u001b[0m 3ms/step - loss: 2483.7542 - mae: 35.0228\n",
      "Epoch 16/25\n",
      "\u001b[1m66662/66662\u001b[0m \u001b[32m━━━━━━━━━━━━━━━━━━━━\u001b[0m\u001b[37m\u001b[0m \u001b[1m202s\u001b[0m 3ms/step - loss: 2428.4651 - mae: 34.6012\n",
      "Epoch 17/25\n",
      "\u001b[1m66662/66662\u001b[0m \u001b[32m━━━━━━━━━━━━━━━━━━━━\u001b[0m\u001b[37m\u001b[0m \u001b[1m202s\u001b[0m 3ms/step - loss: 2390.5195 - mae: 34.2649\n",
      "Epoch 18/25\n",
      "\u001b[1m66662/66662\u001b[0m \u001b[32m━━━━━━━━━━━━━━━━━━━━\u001b[0m\u001b[37m\u001b[0m \u001b[1m201s\u001b[0m 3ms/step - loss: 2350.9685 - mae: 33.9344\n",
      "Epoch 19/25\n",
      "\u001b[1m66662/66662\u001b[0m \u001b[32m━━━━━━━━━━━━━━━━━━━━\u001b[0m\u001b[37m\u001b[0m \u001b[1m200s\u001b[0m 3ms/step - loss: 2319.3379 - mae: 33.6809\n",
      "Epoch 20/25\n",
      "\u001b[1m66662/66662\u001b[0m \u001b[32m━━━━━━━━━━━━━━━━━━━━\u001b[0m\u001b[37m\u001b[0m \u001b[1m205s\u001b[0m 3ms/step - loss: 2284.7498 - mae: 33.3802\n",
      "Epoch 21/25\n",
      "\u001b[1m66662/66662\u001b[0m \u001b[32m━━━━━━━━━━━━━━━━━━━━\u001b[0m\u001b[37m\u001b[0m \u001b[1m203s\u001b[0m 3ms/step - loss: 2247.6206 - mae: 33.0791\n",
      "Epoch 22/25\n",
      "\u001b[1m66662/66662\u001b[0m \u001b[32m━━━━━━━━━━━━━━━━━━━━\u001b[0m\u001b[37m\u001b[0m \u001b[1m201s\u001b[0m 3ms/step - loss: 2232.7527 - mae: 32.9283\n",
      "Epoch 23/25\n",
      "\u001b[1m66662/66662\u001b[0m \u001b[32m━━━━━━━━━━━━━━━━━━━━\u001b[0m\u001b[37m\u001b[0m \u001b[1m201s\u001b[0m 3ms/step - loss: 2213.7634 - mae: 32.7363\n",
      "Epoch 24/25\n",
      "\u001b[1m66662/66662\u001b[0m \u001b[32m━━━━━━━━━━━━━━━━━━━━\u001b[0m\u001b[37m\u001b[0m \u001b[1m197s\u001b[0m 3ms/step - loss: 2171.4456 - mae: 32.4165\n",
      "Epoch 25/25\n",
      "\u001b[1m66662/66662\u001b[0m \u001b[32m━━━━━━━━━━━━━━━━━━━━\u001b[0m\u001b[37m\u001b[0m \u001b[1m198s\u001b[0m 3ms/step - loss: 2150.1411 - mae: 32.2315\n"
     ]
    },
    {
     "data": {
      "text/plain": [
       "['tmodels/nn_model.pkl']"
      ]
     },
     "execution_count": 12,
     "metadata": {},
     "output_type": "execute_result"
    }
   ],
   "source": [
    "### Neural Network\n",
    "\n",
    "nn_model = tf.keras.models.Sequential()\n",
    "nn_model.add(tf.keras.layers.Dense(1028, input_dim=X_train.shape[1], activation='relu'))\n",
    "nn_model.add(tf.keras.layers.Dense(512, activation='relu'))\n",
    "nn_model.add(tf.keras.layers.Dense(256, activation='relu'))\n",
    "nn_model.add(tf.keras.layers.Dense(1, activation='relu'))\n",
    "\n",
    "opt = tf.keras.optimizers.Adam(learning_rate=0.001)\n",
    "nn_model.compile(optimizer=opt, loss='mse', metrics=['mae'])\n",
    "history = nn_model.fit(X_train, y_train, epochs=25, batch_size=64)\n",
    "\n",
    "joblib.dump(nn_model,'tmodels/nn_model.pkl')"
   ]
  },
  {
   "cell_type": "markdown",
   "metadata": {},
   "source": [
    "### Evaluation"
   ]
  },
  {
   "cell_type": "code",
   "execution_count": 13,
   "metadata": {},
   "outputs": [
    {
     "name": "stdout",
     "output_type": "stream",
     "text": [
      "\u001b[1m33331/33331\u001b[0m \u001b[32m━━━━━━━━━━━━━━━━━━━━\u001b[0m\u001b[37m\u001b[0m \u001b[1m32s\u001b[0m 955us/step\n",
      "Neural Network MSE: 2053.715685985156\n"
     ]
    }
   ],
   "source": [
    "nn_pred = nn_model.predict(X_test)\n",
    "nn_mse = mean_squared_error(y_test, nn_pred)\n",
    "print(f'Neural Network MSE: {nn_mse}')"
   ]
  },
  {
   "cell_type": "code",
   "execution_count": 14,
   "metadata": {},
   "outputs": [
    {
     "name": "stdout",
     "output_type": "stream",
     "text": [
      "33331/33331 - 33s - 987us/step - loss: 2053.7109 - mae: 31.9283\n"
     ]
    }
   ],
   "source": [
    "score = nn_model.evaluate(X_test, y_test, verbose=2)"
   ]
  },
  {
   "cell_type": "code",
   "execution_count": 15,
   "metadata": {},
   "outputs": [
    {
     "data": {
      "text/plain": [
       "[<matplotlib.lines.Line2D at 0x191ccd36d10>]"
      ]
     },
     "execution_count": 15,
     "metadata": {},
     "output_type": "execute_result"
    },
    {
     "data": {
      "image/png": "[encoded data removed]",
      "text/plain": [
       "<Figure size 640x480 with 1 Axes>"
      ]
     },
     "metadata": {},
     "output_type": "display_data"
    }
   ],
   "source": [
    "import matplotlib.pyplot as plt\n",
    "plt.plot(history.history['loss'])"
   ]
  },
  {
   "cell_type": "code",
   "execution_count": null,
   "metadata": {},
   "outputs": [],
   "source": []
  }
 ],
 "metadata": {
  "kernelspec": {
   "display_name": "machineLearning",
   "language": "python",
   "name": "python3"
  },
  "language_info": {
   "codemirror_mode": {
    "name": "ipython",
    "version": 3
   },
   "file_extension": ".py",
   "mimetype": "text/x-python",
   "name": "python",
   "nbconvert_exporter": "python",
   "pygments_lexer": "ipython3",
   "version": "3.11.7"
  }
 },
 "nbformat": 4,
 "nbformat_minor": 2
}
